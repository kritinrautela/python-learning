{
  "nbformat": 4,
  "nbformat_minor": 0,
  "metadata": {
    "colab": {
      "provenance": [],
      "authorship_tag": "ABX9TyOe/zW9LeO8ZljgMsW92Rih",
      "include_colab_link": true
    },
    "kernelspec": {
      "name": "python3",
      "display_name": "Python 3"
    },
    "language_info": {
      "name": "python"
    }
  },
  "cells": [
    {
      "cell_type": "markdown",
      "metadata": {
        "id": "view-in-github",
        "colab_type": "text"
      },
      "source": [
        "<a href=\"https://colab.research.google.com/github/kritinrautela/python-learning/blob/main/Week4.ipynb\" target=\"_parent\"><img src=\"https://colab.research.google.com/assets/colab-badge.svg\" alt=\"Open In Colab\"/></a>"
      ]
    },
    {
      "cell_type": "code",
      "execution_count": 1,
      "metadata": {
        "id": "XaEvdqXL3XLi"
      },
      "outputs": [],
      "source": [
        "Daysofweek = [\"Monday\", \"Tuesday\", \"Wednesday\", \"Thursday\", \"Friday\"]"
      ]
    },
    {
      "cell_type": "code",
      "source": [
        "Weektemp = [(23,6), (34,6), (26,7)]"
      ],
      "metadata": {
        "id": "YttHWLcN4KZE"
      },
      "execution_count": null,
      "outputs": []
    },
    {
      "cell_type": "code",
      "source": [
        "weather_event = {\"date\":\"2024-5-12\", \"event\": \"hurricane\", \"severity\":4 }"
      ],
      "metadata": {
        "id": "Bru3-hKz4Kkn"
      },
      "execution_count": null,
      "outputs": []
    },
    {
      "cell_type": "code",
      "source": [
        "weather_stations = [(40.7565, -34.8889), (50.8798, -23.5637)]"
      ],
      "metadata": {
        "id": "FoM6MuMx4Kor"
      },
      "execution_count": null,
      "outputs": []
    },
    {
      "cell_type": "code",
      "source": [
        "monthly_rainfall = [20, 40, 50, 60, 50]"
      ],
      "metadata": {
        "id": "bfHFuiVN4Kry"
      },
      "execution_count": null,
      "outputs": []
    },
    {
      "cell_type": "code",
      "source": [
        "city_weather= {\"Perth\": \"sunny\", \"Melbourne\": \"cloudy\", \"Sydney\": \"rainy\"}"
      ],
      "metadata": {
        "id": "kqrEZbi04noG"
      },
      "execution_count": null,
      "outputs": []
    },
    {
      "cell_type": "code",
      "source": [
        "wind_direction = {\"Morning\": \"NE\", \"Afternoon\": \"E\", \"Evening\":\"S\" \"Night\": \"SE\"}"
      ],
      "metadata": {
        "id": "IPHPD-N34nqx"
      },
      "execution_count": null,
      "outputs": []
    },
    {
      "cell_type": "code",
      "source": [
        "[\n",
        "{\"type\": \"hurricane\", \"location\":\"Tokyo\", \"expiration\":\"2024-09-12\"},\n",
        "  {\"type\": \"tornado\", \"Location\": \"Miami\", \"expiration\":\"2014-10-12\"}\n",
        "]"
      ],
      "metadata": {
        "id": "qor6sDMq4ntT"
      },
      "execution_count": null,
      "outputs": []
    },
    {
      "cell_type": "code",
      "source": [],
      "metadata": {
        "id": "q-B7kt-X4nv-"
      },
      "execution_count": null,
      "outputs": []
    }
  ]
}