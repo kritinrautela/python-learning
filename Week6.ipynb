{
  "nbformat": 4,
  "nbformat_minor": 0,
  "metadata": {
    "colab": {
      "provenance": [],
      "authorship_tag": "ABX9TyMwgCmBXkjIlZedEMf+6opO",
      "include_colab_link": true
    },
    "kernelspec": {
      "name": "python3",
      "display_name": "Python 3"
    },
    "language_info": {
      "name": "python"
    }
  },
  "cells": [
    {
      "cell_type": "markdown",
      "metadata": {
        "id": "view-in-github",
        "colab_type": "text"
      },
      "source": [
        "<a href=\"https://colab.research.google.com/github/kritinrautela/python-learning/blob/main/Week6.ipynb\" target=\"_parent\"><img src=\"https://colab.research.google.com/assets/colab-badge.svg\" alt=\"Open In Colab\"/></a>"
      ]
    },
    {
      "cell_type": "code",
      "execution_count": null,
      "metadata": {
        "id": "fE4AOE2XDNcP"
      },
      "outputs": [],
      "source": [
        "Input validation is the process of ensuring that the data provided by users meets certain criteria before it is processed.\n"
      ]
    },
    {
      "cell_type": "code",
      "source": [
        "Ensure data integrity and consistency.\n",
        "Prevent runtime errors and crashes.\n",
        "Improved security\n"
      ],
      "metadata": {
        "id": "Iu9lsl_BEJt4"
      },
      "execution_count": null,
      "outputs": []
    },
    {
      "cell_type": "code",
      "source": [
        "flexible input validation\n",
        "Handling exceptions and errors more gracefully."
      ],
      "metadata": {
        "id": "cR48YV76ENHA"
      },
      "execution_count": null,
      "outputs": []
    },
    {
      "cell_type": "code",
      "source": [
        "user_input = input(\"enter number: \")\n",
        "try:\n",
        "    user_number = int(user_input)\n",
        "    print(f\"Your number is: {user_number}\")\n",
        "except ValueError:\n",
        "    print(\"Invalid number!\")"
      ],
      "metadata": {
        "colab": {
          "base_uri": "https://localhost:8080/"
        },
        "id": "cgMHpyqrEPDr",
        "outputId": "48f0bd29-ca05-4ca9-a94e-81769a923587"
      },
      "execution_count": 4,
      "outputs": [
        {
          "output_type": "stream",
          "name": "stdout",
          "text": [
            "enter number: 2.3\n",
            "Invalid number!\n"
          ]
        }
      ]
    },
    {
      "cell_type": "code",
      "source": [
        "pip install pyinputplus\n"
      ],
      "metadata": {
        "colab": {
          "base_uri": "https://localhost:8080/"
        },
        "id": "Xm3BxLigFYei",
        "outputId": "d24575e9-df69-4afd-abf4-36c06eab6d53"
      },
      "execution_count": 5,
      "outputs": [
        {
          "output_type": "stream",
          "name": "stdout",
          "text": [
            "Collecting pyinputplus\n",
            "  Downloading PyInputPlus-0.2.12.tar.gz (20 kB)\n",
            "  Installing build dependencies ... \u001b[?25l\u001b[?25hdone\n",
            "  Getting requirements to build wheel ... \u001b[?25l\u001b[?25hdone\n",
            "  Preparing metadata (pyproject.toml) ... \u001b[?25l\u001b[?25hdone\n",
            "Collecting pysimplevalidate>=0.2.7 (from pyinputplus)\n",
            "  Downloading PySimpleValidate-0.2.12.tar.gz (22 kB)\n",
            "  Installing build dependencies ... \u001b[?25l\u001b[?25hdone\n",
            "  Getting requirements to build wheel ... \u001b[?25l\u001b[?25hdone\n",
            "  Preparing metadata (pyproject.toml) ... \u001b[?25l\u001b[?25hdone\n",
            "Collecting stdiomask>=0.0.3 (from pyinputplus)\n",
            "  Downloading stdiomask-0.0.6.tar.gz (3.6 kB)\n",
            "  Installing build dependencies ... \u001b[?25l\u001b[?25hdone\n",
            "  Getting requirements to build wheel ... \u001b[?25l\u001b[?25hdone\n",
            "  Preparing metadata (pyproject.toml) ... \u001b[?25l\u001b[?25hdone\n",
            "Building wheels for collected packages: pyinputplus, pysimplevalidate, stdiomask\n",
            "  Building wheel for pyinputplus (pyproject.toml) ... \u001b[?25l\u001b[?25hdone\n",
            "  Created wheel for pyinputplus: filename=PyInputPlus-0.2.12-py3-none-any.whl size=11297 sha256=4a3a922c7316a035d11ab74609290645d03fae13161391fb969d1795df4c2659\n",
            "  Stored in directory: /root/.cache/pip/wheels/13/ec/a5/f780c8008b74e885aada43369ebf4d350edfd12bb5909ccb23\n",
            "  Building wheel for pysimplevalidate (pyproject.toml) ... \u001b[?25l\u001b[?25hdone\n",
            "  Created wheel for pysimplevalidate: filename=PySimpleValidate-0.2.12-py3-none-any.whl size=16176 sha256=ebddbd1b1f3281b4c04a2cf4ad9ce76cfd26f5119e9790aef6df4309c3f9da2c\n",
            "  Stored in directory: /root/.cache/pip/wheels/64/29/c9/2ee861e5b0775e289013b7c7157e0bdcea3a1b844f835b2eb8\n",
            "  Building wheel for stdiomask (pyproject.toml) ... \u001b[?25l\u001b[?25hdone\n",
            "  Created wheel for stdiomask: filename=stdiomask-0.0.6-py3-none-any.whl size=3306 sha256=beaaf0dd4cf2b78801b665394b8779b905acefe2d3ba3a192248eae15179fc01\n",
            "  Stored in directory: /root/.cache/pip/wheels/6c/00/4b/0715696f101d7376f67a83cf3d545feb8c241eeee75b80bb6f\n",
            "Successfully built pyinputplus pysimplevalidate stdiomask\n",
            "Installing collected packages: stdiomask, pysimplevalidate, pyinputplus\n",
            "Successfully installed pyinputplus-0.2.12 pysimplevalidate-0.2.12 stdiomask-0.0.6\n"
          ]
        }
      ]
    },
    {
      "cell_type": "code",
      "source": [
        "import pyinputplus as pyip\n",
        "user_number = pyip.inputInt(\"enter number\") # Removed extra space before the line\n",
        "print(f\"you entered : {user_number}\") # Corrected the f-string formatting"
      ],
      "metadata": {
        "colab": {
          "base_uri": "https://localhost:8080/"
        },
        "id": "FffdVOtqF1QZ",
        "outputId": "18f9763a-d571-4d1c-d1bb-d22c468212eb"
      },
      "execution_count": 7,
      "outputs": [
        {
          "output_type": "stream",
          "name": "stdout",
          "text": [
            "enter number2.3\n",
            "'2.3' is not an integer.\n",
            "enter number2\n",
            "you entered : 2\n"
          ]
        }
      ]
    },
    {
      "cell_type": "code",
      "source": [
        "def get_weather_data():\n",
        "    try:\n",
        "        city = pyip.inputStr(\"Enter city name: \")\n",
        "        temp = pyip.inputFloat(\"Enter temperature in Celsius: \")\n",
        "        wind_speed = pyip.inputFloat(\"Enter wind speed (km/h): \", min=0)\n",
        "        wind_direction = pyip.inputChoice([\"N\", \"S\", \"E\", \"W\"], prompt=\"Enter wind direction (N/S/E/W): \")\n",
        "        return city, temp, wind_speed, wind_direction\n",
        "    except Exception as e:\n",
        "        print(f\"An error occurred: {e}\")\n",
        "        return None, None, None, None\n"
      ],
      "metadata": {
        "id": "siOOFs3qGVAW"
      },
      "execution_count": 8,
      "outputs": []
    },
    {
      "cell_type": "code",
      "source": [
        "city, temp, wind_speed, wind_direction = get_weather_data()\n",
        "if city:\n",
        "    print(f\"Weather in {city}: {temp}°C, Wind: {wind_speed} km/h {wind_direction}\")\n",
        "else:\n",
        "    print(\"Failed to get weather data.\")"
      ],
      "metadata": {
        "colab": {
          "base_uri": "https://localhost:8080/"
        },
        "id": "3it6Z7SuGWUM",
        "outputId": "da36bfbd-4046-4d28-cb78-429c5cb07f90"
      },
      "execution_count": 9,
      "outputs": [
        {
          "output_type": "stream",
          "name": "stdout",
          "text": [
            "Enter city name: N\n",
            "Enter temperature in Celsius: 23\n",
            "Enter wind speed (km/h): 23\n",
            "Enter wind direction (N/S/E/W): n\n",
            "Weather in N: 23.0°C, Wind: 23.0 km/h N\n"
          ]
        }
      ]
    },
    {
      "cell_type": "code",
      "source": [],
      "metadata": {
        "id": "pixDEdAuGrfL"
      },
      "execution_count": null,
      "outputs": []
    },
    {
      "cell_type": "code",
      "source": [
        "def celsius_to_fahrenheit():\n",
        "    celsius = pyip.inputFloat(\"Enter temperature in Celsius: \")\n",
        "    fahrenheit = (celsius * 9/5) + 32\n",
        "    print(f\"{celsius}°C is equal to {fahrenheit}°F\")\n"
      ],
      "metadata": {
        "id": "4kgp3OGzGWW3"
      },
      "execution_count": null,
      "outputs": []
    },
    {
      "cell_type": "code",
      "source": [
        "Understanding how to use PyInputPlus methods effectively was a bit challenging."
      ],
      "metadata": {
        "colab": {
          "base_uri": "https://localhost:8080/",
          "height": 108
        },
        "id": "Sulnf8R_GWmJ",
        "outputId": "16ebae1f-bf8f-4e02-df1e-7dc3ead35b53"
      },
      "execution_count": 10,
      "outputs": [
        {
          "output_type": "error",
          "ename": "SyntaxError",
          "evalue": "invalid syntax (<ipython-input-10-d8adf19da6c0>, line 1)",
          "traceback": [
            "\u001b[0;36m  File \u001b[0;32m\"<ipython-input-10-d8adf19da6c0>\"\u001b[0;36m, line \u001b[0;32m1\u001b[0m\n\u001b[0;31m    Understanding how to use PyInputPlus methods effectively was a bit challenging.\u001b[0m\n\u001b[0m                  ^\u001b[0m\n\u001b[0;31mSyntaxError\u001b[0m\u001b[0;31m:\u001b[0m invalid syntax\n"
          ]
        }
      ]
    },
    {
      "cell_type": "code",
      "source": [
        "we can use humidity level or weather conditions that could benefit from input validation"
      ],
      "metadata": {
        "id": "5DeCRrmBGxdZ"
      },
      "execution_count": null,
      "outputs": []
    }
  ]
}