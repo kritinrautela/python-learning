{
  "nbformat": 4,
  "nbformat_minor": 0,
  "metadata": {
    "colab": {
      "provenance": [],
      "authorship_tag": "ABX9TyMDq5nZaPPNUsoW1opxubJm",
      "include_colab_link": true
    },
    "kernelspec": {
      "name": "python3",
      "display_name": "Python 3"
    },
    "language_info": {
      "name": "python"
    }
  },
  "cells": [
    {
      "cell_type": "markdown",
      "metadata": {
        "id": "view-in-github",
        "colab_type": "text"
      },
      "source": [
        "<a href=\"https://colab.research.google.com/github/kritinrautela/python-learning/blob/main/Untitled0.ipynb\" target=\"_parent\"><img src=\"https://colab.research.google.com/assets/colab-badge.svg\" alt=\"Open In Colab\"/></a>"
      ]
    },
    {
      "cell_type": "code",
      "execution_count": null,
      "metadata": {
        "id": "JtmPd3uzCZrD"
      },
      "outputs": [],
      "source": [
        "def function_name(parameters):\n",
        "return result"
      ]
    },
    {
      "cell_type": "code",
      "source": [
        "num_days = len(temperatures)"
      ],
      "metadata": {
        "id": "lDWQax2oCisJ"
      },
      "execution_count": null,
      "outputs": []
    },
    {
      "cell_type": "code",
      "source": [
        "total_temperature = sum(temperatures)"
      ],
      "metadata": {
        "id": "-5O3Fz5KCiug"
      },
      "execution_count": null,
      "outputs": []
    },
    {
      "cell_type": "code",
      "source": [
        "average_humidity = sum(humidity) / len(humidity)\n"
      ],
      "metadata": {
        "id": "6Mo3X1DACixC"
      },
      "execution_count": null,
      "outputs": []
    },
    {
      "cell_type": "code",
      "source": [
        "def celsius_to_fahrenheit(celsius):\n",
        "    return (celsius * 9/5) + 32"
      ],
      "metadata": {
        "id": "fFyUmkhjCizd"
      },
      "execution_count": null,
      "outputs": []
    },
    {
      "cell_type": "code",
      "source": [
        "def average_temperature(temps):\n",
        "    return sum(temps) / len(temps)"
      ],
      "metadata": {
        "id": "z8ZsTsjkCi2Q"
      },
      "execution_count": null,
      "outputs": []
    },
    {
      "cell_type": "code",
      "source": [
        "def weather_description(temperature, humidity):\n",
        "    if temperature > 25 and humidity < 60:\n",
        "        return \"Hot and Dry\"\n",
        "    elif temperature > 25 and humidity >= 60:\n",
        "        return \"Hot and Humid\"\n",
        "    elif 15 <= temperature <= 25 and humidity < 60:\n",
        "        return \"Pleasant\"\n",
        "    elif 15 <= temperature <= 25 and humidity >= 60:\n",
        "        return \"Comfortable but Humid\"\n",
        "    else:\n",
        "        return \"Cool\"\n"
      ],
      "metadata": {
        "id": "cbHB6PIuCi41"
      },
      "execution_count": null,
      "outputs": []
    },
    {
      "cell_type": "code",
      "source": [
        "import numpy as np\n"
      ],
      "metadata": {
        "id": "3SOqLWDJCi7W"
      },
      "execution_count": null,
      "outputs": []
    },
    {
      "cell_type": "code",
      "source": [
        "temp_array = np.array(temperatures)\n"
      ],
      "metadata": {
        "id": "tyPeysB_CwFR"
      },
      "execution_count": null,
      "outputs": []
    },
    {
      "cell_type": "code",
      "source": [
        "mean_temp = np.mean(temp_array)\n",
        "max_temp = np.max(temp_array)\n",
        "min_temp = np.min(temp_array)\n",
        "std_temp = np.std(temp_array"
      ],
      "metadata": {
        "id": "MxfXr_8ECwH7"
      },
      "execution_count": null,
      "outputs": []
    },
    {
      "cell_type": "code",
      "source": [
        "def weather_dashboard(temperatures, humidity):\n",
        "    weather_count = {\n",
        "        \"Hot and Dry\": 0,\n",
        "        \"Hot and Humid\": 0,\n",
        "        \"Pleasant\": 0,\n",
        "        \"Comfortable but Humid\": 0,\n",
        "        \"Cool\": 0\n",
        "    }\n",
        "\n",
        "    for i in range(len(temperatures)):\n",
        "        desc = weather_description(temperatures[i], humidity[i])\n",
        "        print(f\"Day {i+1}: {desc}\")\n",
        "        weather_count[desc] += 1\n",
        "\n",
        "    avg_temp_c = average_temperature(temperatures)\n",
        "    avg_temp_f = celsius_to_fahrenheit(avg_temp_c)\n",
        "    print(f\"Average temperature in Celsius: {avg_temp_c}\")\n",
        "    print(f\"Average temperature in Fahrenheit: {avg_temp_f}\")\n",
        "\n",
        "    hottest_day = np.argmax(temperatures)\n",
        "    coldest_day = np.argmin(temperatures)\n",
        "    print(f\"Hottest day was Day {hottest_day+1}, temperature: {temperatures[hottest_day]}\")\n",
        "    print(f\"Coldest day was Day {coldest_day+1}, temperature: {temperatures[coldest_day]}\")\n",
        "\n",
        "    print(\"\\nWeather Summary:\")\n",
        "    for category, count in weather_count.items():\n",
        "        print(f\"{category}: {count} days\")\n",
        "\n",
        " humidity)\n"
      ],
      "metadata": {
        "colab": {
          "base_uri": "https://localhost:8080/",
          "height": 108
        },
        "id": "GTPe-XMQCwKL",
        "outputId": "3ecc6b1d-a827-467d-d0dd-aad4f77d4d2f"
      },
      "execution_count": 2,
      "outputs": [
        {
          "output_type": "error",
          "ename": "IndentationError",
          "evalue": "unindent does not match any outer indentation level (<tokenize>, line 29)",
          "traceback": [
            "\u001b[0;36m  File \u001b[0;32m\"<tokenize>\"\u001b[0;36m, line \u001b[0;32m29\u001b[0m\n\u001b[0;31m    humidity)\u001b[0m\n\u001b[0m    ^\u001b[0m\n\u001b[0;31mIndentationError\u001b[0m\u001b[0;31m:\u001b[0m unindent does not match any outer indentation level\n"
          ]
        }
      ]
    },
    {
      "cell_type": "code",
      "source": [],
      "metadata": {
        "id": "wJD-OXqvCwMp"
      },
      "execution_count": null,
      "outputs": []
    }
  ]
}