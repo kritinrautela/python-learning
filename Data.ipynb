{
  "nbformat": 4,
  "nbformat_minor": 0,
  "metadata": {
    "colab": {
      "provenance": [],
      "authorship_tag": "ABX9TyOSRIoVzfEwRVzL++YPWGYT",
      "include_colab_link": true
    },
    "kernelspec": {
      "name": "python3",
      "display_name": "Python 3"
    },
    "language_info": {
      "name": "python"
    }
  },
  "cells": [
    {
      "cell_type": "markdown",
      "metadata": {
        "id": "view-in-github",
        "colab_type": "text"
      },
      "source": [
        "<a href=\"https://colab.research.google.com/github/kritinrautela/python-learning/blob/main/Data.ipynb\" target=\"_parent\"><img src=\"https://colab.research.google.com/assets/colab-badge.svg\" alt=\"Open In Colab\"/></a>"
      ]
    },
    {
      "cell_type": "code",
      "execution_count": 6,
      "metadata": {
        "colab": {
          "base_uri": "https://localhost:8080/"
        },
        "id": "Vf5cfVgV6l4Y",
        "outputId": "96b20c7b-d492-4337-d41e-a7cb4e978aa3"
      },
      "outputs": [
        {
          "output_type": "stream",
          "name": "stdout",
          "text": [
            "31\n",
            "28.571428571428573\n"
          ]
        }
      ],
      "source": [
        "weekly_temperatures = 28, 30, 29, 31, 27, 26, 29\n",
        "print (max(weekly_temperatures))\n",
        "print (sum (weekly_temperatures)/len(weekly_temperatures))"
      ]
    },
    {
      "cell_type": "code",
      "source": [
        "weather_station = (\"central park\", 45.999, -78.888)\n",
        "weather_forecast = {\n",
        "\"Day1\": {\"Condition\": \"sunny\", \"temperature\":34},\n",
        "\"Day2\": {\"Condition\":\"rainy\", \"temperature\":64},\n",
        "\"Day3\": {\"Condition\": \"Cloudy\", \"temperature\":14},\n",
        "}"
      ],
      "metadata": {
        "id": "S3-MGYsT7XsS"
      },
      "execution_count": 15,
      "outputs": []
    },
    {
      "cell_type": "code",
      "source": [
        "print (weather_forecast[\"Day2\"][\"Condition\"])\n",
        "weather_forecast[\"Day3\"][\"Condition\"] = \"rainy\"\n",
        "print(weather_forecast[\"Day3\"][\"Condition\"])"
      ],
      "metadata": {
        "colab": {
          "base_uri": "https://localhost:8080/"
        },
        "id": "Yy9_-9cK8bbU",
        "outputId": "ad143cbf-e6d7-4c8c-d1be-9d9162081a76"
      },
      "execution_count": 16,
      "outputs": [
        {
          "output_type": "stream",
          "name": "stdout",
          "text": [
            "rainy\n",
            "rainy\n"
          ]
        }
      ]
    },
    {
      "cell_type": "code",
      "source": [
        "rainfall_data = [\n",
        "\n",
        "(\"January\", 30), (\"February\", 40), (\"March\", 50)\n",
        "]\n",
        "print(max(rainfall_data))"
      ],
      "metadata": {
        "colab": {
          "base_uri": "https://localhost:8080/"
        },
        "id": "aVz6acWX8nAF",
        "outputId": "b67d0c93-5458-4f60-df56-663efb7e36cd"
      },
      "execution_count": 18,
      "outputs": [
        {
          "output_type": "stream",
          "name": "stdout",
          "text": [
            "('March', 50)\n"
          ]
        }
      ]
    },
    {
      "cell_type": "code",
      "source": [
        "city_temperatures ={\n",
        "\"Perth\": [28,45,36,25,231],\n",
        "\"Sydney\": [12,45,20,15,34]\n",
        "          }"
      ],
      "metadata": {
        "id": "FpFyPHoe875Z"
      },
      "execution_count": 21,
      "outputs": []
    },
    {
      "cell_type": "code",
      "source": [
        "for city, temps in city_temperatures.items():\n",
        "    # Calculate the average temperature for the current city.\n",
        "    average_temp = sum (temps)/len (temps)\n",
        "    # Print the average temperature for the current city.\n",
        "    print(average_temp)"
      ],
      "metadata": {
        "colab": {
          "base_uri": "https://localhost:8080/"
        },
        "id": "h8_UN5EF9FGn",
        "outputId": "843e6bda-4542-4eed-d6ed-526226738e3c"
      },
      "execution_count": 23,
      "outputs": [
        {
          "output_type": "stream",
          "name": "stdout",
          "text": [
            "73.0\n",
            "25.2\n"
          ]
        }
      ]
    }
  ]
}