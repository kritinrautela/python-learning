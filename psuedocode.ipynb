{
  "nbformat": 4,
  "nbformat_minor": 0,
  "metadata": {
    "colab": {
      "provenance": [],
      "authorship_tag": "ABX9TyMAcl2eNfwubmnRWBnwbCyZ",
      "include_colab_link": true
    },
    "kernelspec": {
      "name": "python3",
      "display_name": "Python 3"
    },
    "language_info": {
      "name": "python"
    }
  },
  "cells": [
    {
      "cell_type": "markdown",
      "metadata": {
        "id": "view-in-github",
        "colab_type": "text"
      },
      "source": [
        "<a href=\"https://colab.research.google.com/github/kritinrautela/python-learning/blob/main/psuedocode.ipynb\" target=\"_parent\"><img src=\"https://colab.research.google.com/assets/colab-badge.svg\" alt=\"Open In Colab\"/></a>"
      ]
    },
    {
      "cell_type": "code",
      "execution_count": null,
      "metadata": {
        "id": "Av5j1oFB0Nvu"
      },
      "outputs": [],
      "source": []
    },
    {
      "cell_type": "markdown",
      "source": [
        "# New section\n",
        "Set rainy_days = 0\n",
        "For each day in week (7 times) :\n",
        "Input weather_condition\n",
        "If weather_condition is \"rainy\" then\n",
        "Increment rainy_days by 1\n",
        "Print rainy_days"
      ],
      "metadata": {
        "id": "gguQrnsi0Zh5"
      }
    }
  ]
}