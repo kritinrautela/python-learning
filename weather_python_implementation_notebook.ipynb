{
  "cells": [
    {
      "cell_type": "markdown",
      "metadata": {
        "id": "view-in-github",
        "colab_type": "text"
      },
      "source": [
        "<a href=\"https://colab.research.google.com/github/kritinrautela/python-learning/blob/main/weather_python_implementation_notebook.ipynb\" target=\"_parent\"><img src=\"https://colab.research.google.com/assets/colab-badge.svg\" alt=\"Open In Colab\"/></a>"
      ]
    },
    {
      "cell_type": "markdown",
      "metadata": {
        "id": "sQ-WHepbYA5g"
      },
      "source": [
        "# Weather Adventures in Python Land: Implementation Notebook\n",
        "\n",
        "In this notebook, we'll implement some of the weather-related scenarios we explored in pseudocode. Focus on using branching (if-else statements) and loops, as well as any built-in functions you've learned about."
      ]
    },
    {
      "cell_type": "markdown",
      "metadata": {
        "id": "CqoY-E2RYA5i"
      },
      "source": [
        "## Question 1: Temperature-Based Clothing Suggester\n",
        "\n",
        "Implement a program that suggests what to wear based on the temperature. Use the rules from the pseudocode exercise:\n",
        "- If it's above 25°C, suggest light clothing.\n",
        "- If it's between 15°C and 25°C, suggest a light jacket.\n",
        "- If it's below 15°C, suggest warm clothing."
      ]
    },
    {
      "cell_type": "code",
      "source": [
        "# Your code here\n",
        "temperature = float(input(\"Enter temperature: \"))\n",
        "\n",
        "if temperature >25:\n",
        "    print(\"light clothing\")\n",
        "\n",
        "elif temperature >=15 and temperature <=25: # removed extra space before elif\n",
        "    print(\"wear a light jacket\")\n",
        "\n",
        "else: # removed extra space before else\n",
        "    print (\"please wear warm clothing\")"
      ],
      "metadata": {
        "id": "9qCslci3xXtH",
        "outputId": "30a726d5-7f3b-40e6-96c0-221b7fd20c92",
        "colab": {
          "base_uri": "https://localhost:8080/"
        }
      },
      "execution_count": 9,
      "outputs": [
        {
          "output_type": "stream",
          "name": "stdout",
          "text": [
            "Enter temperature: 25\n",
            "wear a light jacket\n"
          ]
        }
      ]
    },
    {
      "cell_type": "markdown",
      "metadata": {
        "id": "rWMj4GnwYA5k"
      },
      "source": [
        "## Question 2: Picnic Day Checker\n",
        "\n",
        "Create a program that checks if it's a good day for a picnic. It's a good day if it's not raining AND the temperature is between 20°C and 30°C."
      ]
    },
    {
      "cell_type": "code",
      "execution_count": 12,
      "metadata": {
        "id": "ElL3BT_MYA5k",
        "outputId": "214dbd5e-cdf8-4876-cf5b-8c1908823dfb",
        "colab": {
          "base_uri": "https://localhost:8080/"
        }
      },
      "outputs": [
        {
          "output_type": "stream",
          "name": "stdout",
          "text": [
            "enter temperature: 24\n",
            "Is it raining? yes/no: no\n",
            "It's a good day for a picnic\n"
          ]
        }
      ],
      "source": [
        "# Your code here\n",
        "temperature=float (input(\"enter temperature: \"))\n",
        "raining =input(\"Is it raining? yes/no: \")\n",
        "if raining ==\"no\" and temperature >=20 and temperature <=30:\n",
        "  print(\"It's a good day for a picnic\")\n",
        "else:\n",
        "  print(\"It is not a good day for a picnic\")\n"
      ]
    },
    {
      "cell_type": "markdown",
      "metadata": {
        "id": "LqgZAh_nYA5k"
      },
      "source": [
        "## Question 3: Rainy Days Counter\n",
        "\n",
        "Write a program that counts the number of rainy days in a week. Use a loop to check each day's weather condition."
      ]
    },
    {
      "cell_type": "code",
      "execution_count": 14,
      "metadata": {
        "id": "ioxSgD9BYA5l",
        "outputId": "1e44ab76-3a29-43e0-ce83-ae7c43abc52d",
        "colab": {
          "base_uri": "https://localhost:8080/"
        }
      },
      "outputs": [
        {
          "output_type": "stream",
          "name": "stdout",
          "text": [
            "Number of rainy days: 3\n"
          ]
        }
      ],
      "source": [
        "\n",
        "\n",
        "# Your code here\n",
        "\n",
        "rainfall = [0, 5.2, 0, 0, 1.5, 0, 2.8]\n",
        "\n",
        "\n",
        "rainy_days = 0\n",
        "\n",
        "\n",
        "for rain in rainfall:\n",
        "    if rain > 0:  # If rainfall is greater than 0, it's a rainy day\n",
        "        rainy_days += 1\n",
        "\n",
        "\n",
        "print(\"Number of rainy days:\", rainy_days)\n",
        "\n"
      ]
    },
    {
      "cell_type": "markdown",
      "metadata": {
        "id": "Jy6YYlJtYA5l"
      },
      "source": [
        "## Question 4: Average Temperature Calculator\n",
        "\n",
        "Implement a program that calculates the average temperature for a 5-day period. Use a loop to input temperatures and calculate the average."
      ]
    },
    {
      "cell_type": "code",
      "execution_count": null,
      "metadata": {
        "id": "AZE44NCjYA5l"
      },
      "outputs": [],
      "source": [
        "# Your code here\n",
        "temperatures = []\n",
        "\n",
        "for i in range(5):\n",
        "    temp = float(input(\"Enter temperature for day \" + str(i+1) + \": \"))\n",
        "    temperatures.append(temp)\n",
        "\n",
        "average = sum(temperatures) / 5\n",
        "\n",
        "print(\"Average temperature is:\", average)\n",
        "\n"
      ]
    },
    {
      "cell_type": "markdown",
      "metadata": {
        "id": "tHYLlPvgYA5m"
      },
      "source": [
        "## Question 5: Heat Wave Warning System\n",
        "\n",
        "Create a program that issues a heat wave warning. A heat wave is when the temperature is above 35°C for three consecutive days. Use a loop and counting mechanism."
      ]
    },
    {
      "cell_type": "code",
      "execution_count": null,
      "metadata": {
        "id": "dM2n1CvpYA5m"
      },
      "outputs": [],
      "source": [
        "# Example list of daily maximum temperatures\n",
        "temperatures = [34, 36, 37, 36, 35, 34, 37, 38, 39]\n",
        "\n",
        "hot_days = 0\n",
        "\n",
        "for temp in temperatures:\n",
        "    if temp > 35:\n",
        "        hot_days += 1\n",
        "    else:\n",
        "        hot_days = 0\n",
        "    if hot_days == 3:\n",
        "        print(\"Heat wave warning!\")\n",
        "        break\n",
        "else:\n",
        "    print(\"No heat wave detected.\")\n",
        "\n"
      ]
    },
    {
      "cell_type": "markdown",
      "metadata": {
        "id": "dU_BvGEqYA5m"
      },
      "source": [
        "## Reflection\n",
        "\n",
        "1. How did your Python implementations differ from your original pseudocode? Were there any challenges in translating pseudocode to Python?\n",
        "\n",
        "2. Which problem was the most challenging to implement? Why?\n",
        "\n",
        "3. If you were to ask a GenAI tutor for help with one of these implementations, what specific question would you ask?"
      ]
    },
    {
      "cell_type": "markdown",
      "metadata": {
        "id": "o1CKeDjIYA5m"
      },
      "source": [
        "Your reflections here:\n",
        "\n",
        "1. It was a bit difficult compared to the pseudocode; I had to use AI to fix my error at times, but it also helped me improve my code\n",
        "\n",
        "2.\n",
        "\n",
        "3."
      ]
    }
  ],
  "metadata": {
    "kernelspec": {
      "display_name": "Python 3",
      "language": "python",
      "name": "python3"
    },
    "language_info": {
      "codemirror_mode": {
        "name": "ipython",
        "version": 3
      },
      "file_extension": ".py",
      "mimetype": "text/x-python",
      "name": "python",
      "nbconvert_exporter": "python",
      "pygments_lexer": "ipython3",
      "version": "3.8.5"
    },
    "colab": {
      "provenance": [],
      "include_colab_link": true
    }
  },
  "nbformat": 4,
  "nbformat_minor": 0
}